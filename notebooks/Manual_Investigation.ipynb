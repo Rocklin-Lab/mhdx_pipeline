{
 "cells": [
  {
   "cell_type": "code",
   "execution_count": 1,
   "id": "bacterial-proxy",
   "metadata": {},
   "outputs": [],
   "source": [
    "import os\n",
    "import sys\n",
    "import yaml\n",
    "import glob\n",
    "import pandas as pd\n",
    "sys.path.append('/'.join(os.getcwd().split('/')[:-1])+'/workflow/scripts')\n",
    "config = yaml.load(open('../config/config.yaml', 'rb').read(), Loader=yaml.FullLoader)\n",
    "library_info = pd.read_csv('../resources/library_info/library_info.csv')"
   ]
  },
  {
   "cell_type": "code",
   "execution_count": 2,
   "id": "urban-slovakia",
   "metadata": {},
   "outputs": [],
   "source": [
    "from HDX_LIMIT.preprocessing.imtbx_reader import main as read_imtbx"
   ]
  },
  {
   "cell_type": "code",
   "execution_count": 3,
   "id": "single-agenda",
   "metadata": {},
   "outputs": [],
   "source": [
    "import HDX_LIMIT"
   ]
  },
  {
   "cell_type": "code",
   "execution_count": 4,
   "id": "emerging-railway",
   "metadata": {},
   "outputs": [
    {
     "name": "stdout",
     "output_type": "stream",
     "text": [
      "Help on function main in module HDX_LIMIT.preprocessing.imtbx_reader:\n",
      "\n",
      "main(isotopes_path, names_and_seqs_path, out_path=None, return_flag=None, original_mz_kde_path=None, adjusted_mz_kde_path=None, calibration_outpath=None, polyfit_deg=1, ppm_tolerance=50, intensity_tolerance=10000, cluster_corr_tolerance=0.99, ppm_refilter=10)\n",
      "    Reads IMTBX file and clusters identified signals with close physical values. \n",
      "    \n",
      "    Args:\n",
      "        isotopes_path (string): path/to/.peaks.isotopes file from undeuterated mzml\n",
      "        names_and_seqs_path (string): path/to/.csv with names and sequences of library proteins\n",
      "        out_path (string): path/to/_intermediate.csv main output file\n",
      "        return_flag (non-None): option to return main output in Python, for notebook context\n",
      "        original_mz_kde_path (string): /path/to/file to save original mz-error kde plots\n",
      "        adjusted_mz_kde_path (string): /path/to/file to save adjusted mz-error kde plots\n",
      "        calibration_outpath (string): /path/to/file for polyfit-calibration output, determines use of polyfit calibration\n",
      "        polyfit_deg (int): degree of polynomial curve to fit to mz data for non-linear correction\n",
      "        ppm_tolerance (float): ppm error tolerance of observed to expected mz, defualt 50 ppm\n",
      "        intensity_tolerance (float): minimum intensity to consider cluster, default 10E4\n",
      "        cluster_corr_tolerance (float): minimum correlation between isotope clusters to consider them redundant, default 0.99\n",
      "        ppm_refilter (float): ppm error tolerance for post-mz-adjustment clusters, default 10 ppm\n",
      "    \n",
      "    Returns:\n",
      "        sum_df (Pandas DataFrame): DF of all charges passing filtration, to be combined with other undeuterated outputs in make_library_master_list.py\n",
      "\n"
     ]
    }
   ],
   "source": [
    "help(read_imtbx)"
   ]
  },
  {
   "cell_type": "code",
   "execution_count": 8,
   "id": "typical-zambia",
   "metadata": {},
   "outputs": [
    {
     "name": "stderr",
     "output_type": "stream",
     "text": [
      "/Users/rwl0960/opt/anaconda3/envs/dask_lab/lib/python3.7/site-packages/seaborn/distributions.py:2557: FutureWarning: `distplot` is a deprecated function and will be removed in a future version. Please adapt your code to use either `displot` (a figure-level function with similar flexibility) or `histplot` (an axes-level function for histograms).\n",
      "  warnings.warn(msg, FutureWarning)\n"
     ]
    },
    {
     "name": "stdout",
     "output_type": "stream",
     "text": [
      "No rt Duplicates: True\n"
     ]
    }
   ],
   "source": [
    "imtbx_intermediate_UN = read_imtbx('../resources/isotopes/180604_Mix2_MES_nonlin_UN.mzML.peaks.isotopes', '../resources/library_info/new_HX_order.csv', return_flag=True)"
   ]
  },
  {
   "cell_type": "code",
   "execution_count": 10,
   "id": "otherwise-religion",
   "metadata": {},
   "outputs": [
    {
     "data": {
      "text/plain": [
       "dict_keys(['name', 'RT', 'im_mono', 'ab_cluster_total', 'MW', 'charge', 'expect_mz', 'obs_mz', 'ppm', 'abs_ppm', 'cluster'])"
      ]
     },
     "execution_count": 10,
     "metadata": {},
     "output_type": "execute_result"
    }
   ],
   "source": [
    "imtbx_intermediate_UN.keys()"
   ]
  },
  {
   "cell_type": "code",
   "execution_count": 11,
   "id": "former-arabic",
   "metadata": {},
   "outputs": [],
   "source": [
    "un_int_df = pd.DataFrame.from_dict(imtbx_intermediate_UN)"
   ]
  },
  {
   "cell_type": "code",
   "execution_count": 12,
   "id": "stable-review",
   "metadata": {},
   "outputs": [
    {
     "data": {
      "text/html": [
       "<div>\n",
       "<style scoped>\n",
       "    .dataframe tbody tr th:only-of-type {\n",
       "        vertical-align: middle;\n",
       "    }\n",
       "\n",
       "    .dataframe tbody tr th {\n",
       "        vertical-align: top;\n",
       "    }\n",
       "\n",
       "    .dataframe thead th {\n",
       "        text-align: right;\n",
       "    }\n",
       "</style>\n",
       "<table border=\"1\" class=\"dataframe\">\n",
       "  <thead>\n",
       "    <tr style=\"text-align: right;\">\n",
       "      <th></th>\n",
       "      <th>name</th>\n",
       "      <th>RT</th>\n",
       "      <th>im_mono</th>\n",
       "      <th>ab_cluster_total</th>\n",
       "      <th>MW</th>\n",
       "      <th>charge</th>\n",
       "      <th>expect_mz</th>\n",
       "      <th>obs_mz</th>\n",
       "      <th>ppm</th>\n",
       "      <th>abs_ppm</th>\n",
       "      <th>cluster</th>\n",
       "    </tr>\n",
       "  </thead>\n",
       "  <tbody>\n",
       "    <tr>\n",
       "      <th>0</th>\n",
       "      <td>HEEH_rd1_0125.pdb</td>\n",
       "      <td>4.458056</td>\n",
       "      <td>116.508605</td>\n",
       "      <td>3010934.8</td>\n",
       "      <td>5238.760347</td>\n",
       "      <td>5.0</td>\n",
       "      <td>1048.759339</td>\n",
       "      <td>1048.758083</td>\n",
       "      <td>-1.2</td>\n",
       "      <td>1.197974</td>\n",
       "      <td>111</td>\n",
       "    </tr>\n",
       "    <tr>\n",
       "      <th>1</th>\n",
       "      <td>HHH_rd4_0891.pdb</td>\n",
       "      <td>4.349178</td>\n",
       "      <td>118.225656</td>\n",
       "      <td>207025.7</td>\n",
       "      <td>5649.892150</td>\n",
       "      <td>5.0</td>\n",
       "      <td>1130.985700</td>\n",
       "      <td>1130.985611</td>\n",
       "      <td>-0.1</td>\n",
       "      <td>0.079082</td>\n",
       "      <td>139</td>\n",
       "    </tr>\n",
       "    <tr>\n",
       "      <th>2</th>\n",
       "      <td>HEEH_rd1_0125.pdb</td>\n",
       "      <td>4.439518</td>\n",
       "      <td>89.788979</td>\n",
       "      <td>703478.1</td>\n",
       "      <td>5238.760347</td>\n",
       "      <td>6.0</td>\n",
       "      <td>874.133994</td>\n",
       "      <td>874.131069</td>\n",
       "      <td>-3.3</td>\n",
       "      <td>3.346653</td>\n",
       "      <td>162</td>\n",
       "    </tr>\n",
       "    <tr>\n",
       "      <th>3</th>\n",
       "      <td>HEEH_rd1_0966.pdb</td>\n",
       "      <td>4.384746</td>\n",
       "      <td>101.893880</td>\n",
       "      <td>476410.9</td>\n",
       "      <td>5648.896896</td>\n",
       "      <td>6.0</td>\n",
       "      <td>942.490086</td>\n",
       "      <td>942.488971</td>\n",
       "      <td>-1.2</td>\n",
       "      <td>1.183368</td>\n",
       "      <td>167</td>\n",
       "    </tr>\n",
       "    <tr>\n",
       "      <th>4</th>\n",
       "      <td>HEEH_rd1_0966.pdb</td>\n",
       "      <td>4.406459</td>\n",
       "      <td>118.695357</td>\n",
       "      <td>258016.0</td>\n",
       "      <td>5648.896896</td>\n",
       "      <td>5.0</td>\n",
       "      <td>1130.786649</td>\n",
       "      <td>1130.789337</td>\n",
       "      <td>2.4</td>\n",
       "      <td>2.376841</td>\n",
       "      <td>228</td>\n",
       "    </tr>\n",
       "    <tr>\n",
       "      <th>...</th>\n",
       "      <td>...</td>\n",
       "      <td>...</td>\n",
       "      <td>...</td>\n",
       "      <td>...</td>\n",
       "      <td>...</td>\n",
       "      <td>...</td>\n",
       "      <td>...</td>\n",
       "      <td>...</td>\n",
       "      <td>...</td>\n",
       "      <td>...</td>\n",
       "      <td>...</td>\n",
       "    </tr>\n",
       "    <tr>\n",
       "      <th>1876</th>\n",
       "      <td>HEEH_rd4_0276.pdb</td>\n",
       "      <td>18.797200</td>\n",
       "      <td>102.958674</td>\n",
       "      <td>252871.5</td>\n",
       "      <td>5071.781584</td>\n",
       "      <td>6.0</td>\n",
       "      <td>846.304201</td>\n",
       "      <td>846.300142</td>\n",
       "      <td>-4.8</td>\n",
       "      <td>4.795363</td>\n",
       "      <td>7097</td>\n",
       "    </tr>\n",
       "    <tr>\n",
       "      <th>1877</th>\n",
       "      <td>HEEH_rd4_0276.pdb</td>\n",
       "      <td>18.824251</td>\n",
       "      <td>90.896216</td>\n",
       "      <td>199883.9</td>\n",
       "      <td>5071.781584</td>\n",
       "      <td>6.0</td>\n",
       "      <td>846.304201</td>\n",
       "      <td>846.300228</td>\n",
       "      <td>-4.7</td>\n",
       "      <td>4.693881</td>\n",
       "      <td>7100</td>\n",
       "    </tr>\n",
       "    <tr>\n",
       "      <th>1878</th>\n",
       "      <td>HHH_rd1_0014.pdb</td>\n",
       "      <td>18.717667</td>\n",
       "      <td>124.237793</td>\n",
       "      <td>306718.5</td>\n",
       "      <td>6124.201519</td>\n",
       "      <td>5.0</td>\n",
       "      <td>1225.847574</td>\n",
       "      <td>1225.853444</td>\n",
       "      <td>4.8</td>\n",
       "      <td>4.788921</td>\n",
       "      <td>7102</td>\n",
       "    </tr>\n",
       "    <tr>\n",
       "      <th>1879</th>\n",
       "      <td>HEEH_rd4_0528.pdb</td>\n",
       "      <td>19.364049</td>\n",
       "      <td>182.543280</td>\n",
       "      <td>276702.2</td>\n",
       "      <td>4958.772975</td>\n",
       "      <td>4.0</td>\n",
       "      <td>1240.700514</td>\n",
       "      <td>1240.702833</td>\n",
       "      <td>1.9</td>\n",
       "      <td>1.869200</td>\n",
       "      <td>7115</td>\n",
       "    </tr>\n",
       "    <tr>\n",
       "      <th>1880</th>\n",
       "      <td>HHH_rd4_0269.pdb</td>\n",
       "      <td>19.004371</td>\n",
       "      <td>124.147824</td>\n",
       "      <td>64920.9</td>\n",
       "      <td>6123.235948</td>\n",
       "      <td>5.0</td>\n",
       "      <td>1225.654460</td>\n",
       "      <td>1225.655825</td>\n",
       "      <td>1.1</td>\n",
       "      <td>1.113857</td>\n",
       "      <td>7118</td>\n",
       "    </tr>\n",
       "  </tbody>\n",
       "</table>\n",
       "<p>1881 rows × 11 columns</p>\n",
       "</div>"
      ],
      "text/plain": [
       "                   name         RT     im_mono  ab_cluster_total           MW  \\\n",
       "0     HEEH_rd1_0125.pdb   4.458056  116.508605         3010934.8  5238.760347   \n",
       "1      HHH_rd4_0891.pdb   4.349178  118.225656          207025.7  5649.892150   \n",
       "2     HEEH_rd1_0125.pdb   4.439518   89.788979          703478.1  5238.760347   \n",
       "3     HEEH_rd1_0966.pdb   4.384746  101.893880          476410.9  5648.896896   \n",
       "4     HEEH_rd1_0966.pdb   4.406459  118.695357          258016.0  5648.896896   \n",
       "...                 ...        ...         ...               ...          ...   \n",
       "1876  HEEH_rd4_0276.pdb  18.797200  102.958674          252871.5  5071.781584   \n",
       "1877  HEEH_rd4_0276.pdb  18.824251   90.896216          199883.9  5071.781584   \n",
       "1878   HHH_rd1_0014.pdb  18.717667  124.237793          306718.5  6124.201519   \n",
       "1879  HEEH_rd4_0528.pdb  19.364049  182.543280          276702.2  4958.772975   \n",
       "1880   HHH_rd4_0269.pdb  19.004371  124.147824           64920.9  6123.235948   \n",
       "\n",
       "      charge    expect_mz       obs_mz  ppm   abs_ppm  cluster  \n",
       "0        5.0  1048.759339  1048.758083 -1.2  1.197974      111  \n",
       "1        5.0  1130.985700  1130.985611 -0.1  0.079082      139  \n",
       "2        6.0   874.133994   874.131069 -3.3  3.346653      162  \n",
       "3        6.0   942.490086   942.488971 -1.2  1.183368      167  \n",
       "4        5.0  1130.786649  1130.789337  2.4  2.376841      228  \n",
       "...      ...          ...          ...  ...       ...      ...  \n",
       "1876     6.0   846.304201   846.300142 -4.8  4.795363     7097  \n",
       "1877     6.0   846.304201   846.300228 -4.7  4.693881     7100  \n",
       "1878     5.0  1225.847574  1225.853444  4.8  4.788921     7102  \n",
       "1879     4.0  1240.700514  1240.702833  1.9  1.869200     7115  \n",
       "1880     5.0  1225.654460  1225.655825  1.1  1.113857     7118  \n",
       "\n",
       "[1881 rows x 11 columns]"
      ]
     },
     "execution_count": 12,
     "metadata": {},
     "output_type": "execute_result"
    }
   ],
   "source": [
    "un_int_df"
   ]
  },
  {
   "cell_type": "code",
   "execution_count": null,
   "id": "tracked-canon",
   "metadata": {},
   "outputs": [],
   "source": []
  }
 ],
 "metadata": {
  "kernelspec": {
   "display_name": "Python 3",
   "language": "python",
   "name": "python3"
  },
  "language_info": {
   "codemirror_mode": {
    "name": "ipython",
    "version": 3
   },
   "file_extension": ".py",
   "mimetype": "text/x-python",
   "name": "python",
   "nbconvert_exporter": "python",
   "pygments_lexer": "ipython3",
   "version": "3.7.9"
  }
 },
 "nbformat": 4,
 "nbformat_minor": 5
}
