{
 "cells": [
  {
   "cell_type": "code",
   "execution_count": 1,
   "metadata": {},
   "outputs": [
    {
     "ename": "ModuleNotFoundError",
     "evalue": "No module named 'LC_IM_MS_TensorAnalysis'",
     "output_type": "error",
     "traceback": [
      "\u001b[0;31m---------------------------------------------------------------------------\u001b[0m",
      "\u001b[0;31mModuleNotFoundError\u001b[0m                       Traceback (most recent call last)",
      "\u001b[0;32m<ipython-input-1-6f80c496b385>\u001b[0m in \u001b[0;36m<module>\u001b[0;34m\u001b[0m\n\u001b[1;32m     16\u001b[0m \u001b[0;34m\u001b[0m\u001b[0m\n\u001b[1;32m     17\u001b[0m \u001b[0msys\u001b[0m\u001b[0;34m.\u001b[0m\u001b[0mpath\u001b[0m\u001b[0;34m.\u001b[0m\u001b[0mappend\u001b[0m\u001b[0;34m(\u001b[0m\u001b[0mos\u001b[0m\u001b[0;34m.\u001b[0m\u001b[0mgetcwd\u001b[0m\u001b[0;34m(\u001b[0m\u001b[0;34m)\u001b[0m\u001b[0;34m+\u001b[0m\u001b[0;34m\"../workflow/scripts/auxiliary/\"\u001b[0m\u001b[0;34m)\u001b[0m\u001b[0;34m\u001b[0m\u001b[0;34m\u001b[0m\u001b[0m\n\u001b[0;32m---> 18\u001b[0;31m \u001b[0;32mimport\u001b[0m \u001b[0mLC_IM_MS_TensorAnalysis\u001b[0m \u001b[0;32mas\u001b[0m \u001b[0mhx\u001b[0m\u001b[0;34m\u001b[0m\u001b[0;34m\u001b[0m\u001b[0m\n\u001b[0m\u001b[1;32m     19\u001b[0m \u001b[0;34m\u001b[0m\u001b[0m\n\u001b[1;32m     20\u001b[0m \u001b[0mlibrary_info\u001b[0m\u001b[0;34m=\u001b[0m\u001b[0mpd\u001b[0m\u001b[0;34m.\u001b[0m\u001b[0mread_csv\u001b[0m\u001b[0;34m(\u001b[0m\u001b[0;34m\"../resources/library_info/library_info.csv\"\u001b[0m\u001b[0;34m)\u001b[0m\u001b[0;34m\u001b[0m\u001b[0;34m\u001b[0m\u001b[0m\n",
      "\u001b[0;31mModuleNotFoundError\u001b[0m: No module named 'LC_IM_MS_TensorAnalysis'"
     ]
    }
   ],
   "source": [
    "import os\n",
    "import sys\n",
    "import glob\n",
    "import zlib\n",
    "import math\n",
    "import pickle\n",
    "import pymzml\n",
    "import numpy as np\n",
    "import pandas as pd\n",
    "import _pickle as cpickle\n",
    "import matplotlib.pyplot as plt\n",
    "from importlib import reload\n",
    "from collections import defaultdict as ddict\n",
    "from scipy.ndimage.filters import gaussian_filter\n",
    "from tensorly.decomposition import non_negative_parafac as nnp\n",
    "\n",
    "sys.path.append(os.getcwd()+\"../workflow/scripts/auxiliary/\")\n",
    "import LC_IM_MS_TensorAnalysis as hx\n",
    "\n",
    "library_info=pd.read_csv(\"../resources/library_info/library_info.csv\")\n",
    "\n",
    "timepoints = [0, 10, 16, 26, 40, 65, 105, 160, 270, 430, 690, 1050, 1680, 2640, 4200, 6600, 11400, 18900, 33600, 62220, 100800]\n",
    "tp_names = [\"UN\", \"10s\", \"16s\", \"26s\", \"40s\", \"65s\", \"105s\", \"160s\", \"4m30\", \"7m10\", \"11m30s\", \"17m30s\", \"28m\", \"44m\", \"70m\", \"1hr50\", \"3hr10\", \"5hr15\", \"9hr20\", \"17hr45\", \"28hr\"]\n",
    "\n",
    "line = 99\n",
    "\n",
    "tp_inputs = [sorted([fn for fn in glob.glob(\"../resources/tensors/\"+str(line)+\"_*\") if tp_name in fn]) for tp_name in tp_names]\n",
    "\n",
    "sample_un = hx.limit_read(tp_inputs[0][0])"
   ]
  },
  {
   "cell_type": "code",
   "execution_count": 2,
   "metadata": {},
   "outputs": [
    {
     "data": {
      "text/plain": [
       "'/Users/rwl0960/Documents/hdx/HDX_LIMIT-Pipeline/notebooks'"
      ]
     },
     "execution_count": 2,
     "metadata": {},
     "output_type": "execute_result"
    }
   ],
   "source": [
    "os.getcwd()"
   ]
  },
  {
   "cell_type": "code",
   "execution_count": 2,
   "metadata": {},
   "outputs": [],
   "source": [
    "mzml_gz = glob.glob(\"../isolate_tensors_redo/mzmls/*\")[0]"
   ]
  },
  {
   "cell_type": "code",
   "execution_count": 7,
   "metadata": {},
   "outputs": [],
   "source": [
    "msrun = pymzml.run.Reader(mzml_gz)"
   ]
  },
  {
   "cell_type": "code",
   "execution_count": 12,
   "metadata": {},
   "outputs": [],
   "source": [
    "scan = msrun[1]"
   ]
  },
  {
   "cell_type": "code",
   "execution_count": 27,
   "metadata": {
    "collapsed": true,
    "jupyter": {
     "outputs_hidden": true
    }
   },
   "outputs": [
    {
     "data": {
      "text/plain": [
       "([(1743.74, 0.00016894625880781327),\n",
       "  (1743.742, 0.0002948384815508044),\n",
       "  (1743.744, 0.0005078168361451884),\n",
       "  (1743.746, 0.0008632117982435794),\n",
       "  (1743.748, 0.0014481547812677273),\n",
       "  (1743.75, 0.0023977281391522275),\n",
       "  (1743.752, 0.003918070447263067),\n",
       "  (1743.754, 0.006318760336716645),\n",
       "  (1743.756, 0.010057241276470189),\n",
       "  (1743.758, 0.01579840334628141),\n",
       "  (1743.76, 0.024492598801553654),\n",
       "  (1743.762, 0.03747519336936492),\n",
       "  (1743.764, 0.05659007102020442),\n",
       "  (1743.766, 0.08433812434638953),\n",
       "  (1743.768, 0.12404948914913891),\n",
       "  (1743.77, 0.18007497566516414),\n",
       "  (1743.772, 0.2579877542679078),\n",
       "  (1743.774, 0.36478096014828754),\n",
       "  (1743.776, 0.5090407790279414),\n",
       "  (1743.778, 0.7010683001799476),\n",
       "  (1743.78, 0.9529177759160864),\n",
       "  (1743.782, 1.2783149535867757),\n",
       "  (1743.784, 1.6924180667863111),\n",
       "  (1743.786, 2.2113871369051576),\n",
       "  (1743.788, 2.851735539569207),\n",
       "  (1743.79, 3.629452020927116),\n",
       "  (1743.792, 4.558901553841009),\n",
       "  (1743.794, 5.651538768106768),\n",
       "  (1743.796, 6.914496336400117),\n",
       "  (1743.798, 8.349139805149395),\n",
       "  (1743.8, 9.949706236888439),\n",
       "  (1743.802, 11.702162547744413),\n",
       "  (1743.804, 13.583426493433645),\n",
       "  (1743.806, 15.561085544670217),\n",
       "  (1743.808, 17.593724462955517),\n",
       "  (1743.81, 19.63193126473568),\n",
       "  (1743.812, 21.619995847976007),\n",
       "  (1743.814, 23.498250557754652),\n",
       "  (1743.816, 25.20593413506782),\n",
       "  (1743.818, 26.684397815585513),\n",
       "  (1743.82, 27.880423012159145),\n",
       "  (1743.822, 28.749391278433404),\n",
       "  (1743.824, 29.25804417146906),\n",
       "  (1743.826, 29.38659526263188),\n",
       "  (1743.828, 29.130007371717877),\n",
       "  (1743.83, 28.49832009809777),\n",
       "  (1743.832, 27.515997963405702),\n",
       "  (1743.834, 26.22035816293173),\n",
       "  (1743.836, 24.65921876858657),\n",
       "  (1743.838, 22.887973926439706),\n",
       "  (1743.84, 20.96634507050437),\n",
       "  (1743.842, 18.955072557231322),\n",
       "  (1743.844, 16.912800100867774),\n",
       "  (1743.846, 14.893368085921532),\n",
       "  (1743.848, 12.943677186000919),\n",
       "  (1743.85, 11.102218386167904),\n",
       "  (1743.852, 9.398297779939478),\n",
       "  (1743.854, 7.851922048749235),\n",
       "  (1743.856, 6.474259463190436),\n",
       "  (1743.858, 5.268555553786941),\n",
       "  (1743.86, 4.231363836537886),\n",
       "  (1743.862, 3.353949498107392),\n",
       "  (1743.864, 2.6237352530198925),\n",
       "  (1743.866, 2.025680021997008),\n",
       "  (1743.868, 1.5435084876955307),\n",
       "  (1743.87, 1.1607389066560065),\n",
       "  (1743.872, 0.861484373526713),\n",
       "  (1743.874, 0.6310265166900586),\n",
       "  (1743.876, 0.4561788617192498),\n",
       "  (1743.878, 0.32546931341052865),\n",
       "  (1743.88, 0.22917766011673749),\n",
       "  (1743.882, 0.15926555412827914),\n",
       "  (1743.884, 0.10923423603307983),\n",
       "  (1743.886, 0.07394061134300056),\n",
       "  (1743.888, 0.04939632519416211),\n",
       "  (1743.89, 0.03256818736217179),\n",
       "  (1743.892, 0.021192387057867773),\n",
       "  (1743.894, 0.013609855352992372),\n",
       "  (1743.896, 0.008626099918320772),\n",
       "  (1743.898, 0.005395886451034441),\n",
       "  (1743.9, 0.0033311827754884727),\n",
       "  (1743.902, 0.00202965145870751),\n",
       "  (1743.904, 0.001220483214629247),\n",
       "  (1743.906, 0.0007243183691591746),\n",
       "  (1743.908, 0.0004242428487972944),\n",
       "  (1743.91, 0.0002452375135498242),\n",
       "  (1743.912, 0.00013990931191211188),\n",
       "  (1797.134, 0.0001975177093720327),\n",
       "  (1797.136, 0.0003398923338626313),\n",
       "  (1797.138, 0.0005776947941441555),\n",
       "  (1797.14, 0.0009697890903506346),\n",
       "  (1797.142, 0.0016079698084453013),\n",
       "  (1797.144, 0.002633299408712437),\n",
       "  (1797.146, 0.0042593600069909705),\n",
       "  (1797.148, 0.006804719248195007),\n",
       "  (1797.15, 0.01073736780807873),\n",
       "  (1797.152, 0.016734286659760438),\n",
       "  (1797.154, 0.025759553678437505),\n",
       "  (1797.156, 0.03916437672044714),\n",
       "  (1797.158, 0.058811988064662264),\n",
       "  (1797.16, 0.08722927384619543),\n",
       "  (1797.162, 0.12778515658596576),\n",
       "  (1797.164, 0.18489293540263801),\n",
       "  (1797.166, 0.2642299125895426),\n",
       "  (1797.168, 0.37296270015791894),\n",
       "  (1797.17, 0.5199607665173623),\n",
       "  (1797.172, 0.7159744192845191),\n",
       "  (1797.174, 0.9737471332325499),\n",
       "  (1797.176, 1.308026774908552),\n",
       "  (1797.178, 1.7354369160056295),\n",
       "  (1797.18, 2.2741692587318925),\n",
       "  (1797.182, 2.9434624064198793),\n",
       "  (1797.184, 3.7628417832796743),\n",
       "  (1797.186, 4.751111011073383),\n",
       "  (1797.188, 5.925106401498069),\n",
       "  (1797.19, 7.298252506088899),\n",
       "  (1797.192, 8.878986018205676),\n",
       "  (1797.194, 10.669144933316392),\n",
       "  (1797.196, 12.662446198307137),\n",
       "  (1797.198, 14.84319411485485),\n",
       "  (1797.2, 17.185369594814386),\n",
       "  (1797.202, 19.652243740986847),\n",
       "  (1797.204, 22.196636136265123),\n",
       "  (1797.206, 24.76189851671098),\n",
       "  (1797.208, 27.28365011829313),\n",
       "  (1797.21, 29.69222613049675),\n",
       "  (1797.212, 31.915731506536222),\n",
       "  (1797.214, 33.88352633444543),\n",
       "  (1797.216, 35.529914040979364),\n",
       "  (1797.218, 36.79776717256625),\n",
       "  (1797.22, 37.64181303671593),\n",
       "  (1797.222, 38.03131612168124),\n",
       "  (1797.224, 37.951935769081224),\n",
       "  (1797.226, 37.40660255779733),\n",
       "  (1797.228, 36.41533872449742),\n",
       "  (1797.23, 35.014037962830535),\n",
       "  (1797.232, 33.252308284070736),\n",
       "  (1797.234, 31.190558677608824),\n",
       "  (1797.236, 28.89656797894151),\n",
       "  (1797.238, 26.441807056992385),\n",
       "  (1797.24, 23.897790767443638),\n",
       "  (1797.242, 21.332715062228743),\n",
       "  (1797.244, 18.808591162722394),\n",
       "  (1797.246, 16.379029151077024),\n",
       "  (1797.248, 14.08775534871875),\n",
       "  (1797.25, 11.967879332373437),\n",
       "  (1797.252, 10.041864527507226),\n",
       "  (1797.254, 8.322106517032333),\n",
       "  (1797.256, 6.81198899744967),\n",
       "  (1797.258, 5.507269903527327),\n",
       "  (1797.26, 4.397648768214518),\n",
       "  (1797.262, 3.468378414847932),\n",
       "  (1797.264, 2.701806020123081),\n",
       "  (1797.266, 2.0787564556148785),\n",
       "  (1797.268, 1.5797007069380196),\n",
       "  (1797.27, 1.1856807519862276),\n",
       "  (1797.272, 0.8789870618247573),\n",
       "  (1797.274, 0.6436043208170104),\n",
       "  (1797.276, 0.4654544376039643),\n",
       "  (1797.278, 0.33247359160615686),\n",
       "  (1797.28, 0.23456266670479983),\n",
       "  (1797.282, 0.16344904276654518),\n",
       "  (1797.284, 0.11249355155906222),\n",
       "  (1797.286, 0.07647062338898293),\n",
       "  (1797.288, 0.05134325387545052),\n",
       "  (1797.29, 0.03404818000150637),\n",
       "  (1797.292, 0.022301094169138506),\n",
       "  (1797.294, 0.014427138349710015),\n",
       "  (1797.296, 0.009218409089562118),\n",
       "  (1797.298, 0.005817729350472988),\n",
       "  (1797.3, 0.003626375778041035),\n",
       "  (1797.302, 0.0022326150746542423),\n",
       "  (1797.304, 0.0013576150880732375),\n",
       "  (1797.306, 0.0008153821780449023),\n",
       "  (1797.308, 0.00048369046836952643),\n",
       "  (1797.31, 0.0002833972289173833),\n",
       "  (1797.312, 0.00016400059554510924)],\n",
       " array([[1743.82566656,   29.39196045],\n",
       "        [1797.2226626 ,   38.0571033 ]]))"
      ]
     },
     "execution_count": 27,
     "metadata": {},
     "output_type": "execute_result"
    }
   ],
   "source": [
    "scan.peaks('reprofiled'), scan.peaks('centroided')"
   ]
  },
  {
   "cell_type": "code",
   "execution_count": 69,
   "metadata": {},
   "outputs": [
    {
     "data": {
      "text/plain": [
       "5e-06"
      ]
     },
     "execution_count": 69,
     "metadata": {},
     "output_type": "execute_result"
    }
   ],
   "source": [
    "scan.measured_precision"
   ]
  },
  {
   "cell_type": "code",
   "execution_count": 20,
   "metadata": {},
   "outputs": [
    {
     "data": {
      "text/plain": [
       "list"
      ]
     },
     "execution_count": 20,
     "metadata": {},
     "output_type": "execute_result"
    }
   ],
   "source": [
    "type(sample_un[2])"
   ]
  },
  {
   "cell_type": "code",
   "execution_count": 4,
   "metadata": {},
   "outputs": [],
   "source": [
    "measured_precision = 0.000001\n",
    "internal_precision = 1000\n",
    "\n",
    "def reprofile(tensor): \n",
    "    out = []\n",
    "    for scan in tensor[2]:\n",
    "        tmp = ddict(int)\n",
    "        for mz, i in scan:\n",
    "            # Let the measured precision be 2 sigma of the signal width\n",
    "            # When using normal distribution\n",
    "            # FWHM = 2 sqt(2 * ln(2)) sigma = 2.3548 sigma\n",
    "            s = mz * measured_precision * 2  # in before 2\n",
    "            s2 = s * s\n",
    "            #print(mz, i, s, s2)\n",
    "            floor = mz - 5.0 * s  # Gauss curve +- 3 sigma\n",
    "            ceil = mz + 5.0 * s\n",
    "            #print(floor, ceil)\n",
    "            ip = internal_precision / 4\n",
    "            # more spacing, i.e. less points describing the gauss curve\n",
    "            # -> faster adding\n",
    "            for _ in range(int(round(floor * ip)), int(round(ceil * ip)) + 1):\n",
    "                #print(_)\n",
    "                if _ % int(5) == 0:\n",
    "                    a = float(_) / float(ip)\n",
    "                    y = i * math.exp(-1 * ((mz - a) * (mz - a)) / (2 * s2))\n",
    "                    tmp[a] += y\n",
    "        out.append(np.asarray([[key, tmp[key]] for key in list(tmp.keys())]))\n",
    "    return out"
   ]
  },
  {
   "cell_type": "code",
   "execution_count": 5,
   "metadata": {},
   "outputs": [],
   "source": [
    "reprofiled = reprofile(sample_un)"
   ]
  },
  {
   "cell_type": "code",
   "execution_count": 18,
   "metadata": {},
   "outputs": [
    {
     "data": {
      "text/plain": [
       "0.4251708220302574"
      ]
     },
     "execution_count": 18,
     "metadata": {},
     "output_type": "execute_result"
    }
   ],
   "source": [
    "reprofiled[0][0, 1]"
   ]
  },
  {
   "cell_type": "code",
   "execution_count": null,
   "metadata": {},
   "outputs": [],
   "source": []
  },
  {
   "cell_type": "code",
   "execution_count": 2,
   "metadata": {},
   "outputs": [
    {
     "name": "stdout",
     "output_type": "stream",
     "text": [
      "Starting 0 seconds, 1 of 21\n",
      "Sourcefile: data/new_tensors/99_180604_Mix2_MES_nonlin_UN.mzML.gz.cpickle.zlib, 1 of 3\n",
      "File: data/new_tensors/99_180604_Mix2_MES_nonlin_UN.mzML.gz.cpickle.zlib\n",
      "1 of 9 T+0.09103226661682129\n",
      "2 of 9 T+0.23068499565124512\n",
      "3 of 9 T+0.3187999725341797\n",
      "4 of 9 T+0.38086390495300293\n",
      "5 of 9 T+0.44152402877807617\n",
      "6 of 9 T+0.4985496997833252\n",
      "7 of 9 T+0.5636248588562012\n",
      "8 of 9 T+0.6226117610931396\n",
      "9 of 9 T+0.6837739944458008\n",
      "Sourcefile: data/new_tensors/99_180604_Mix2_MES_nonlin_UN2.mzML.gz.cpickle.zlib, 2 of 3\n",
      "File: data/new_tensors/99_180604_Mix2_MES_nonlin_UN2.mzML.gz.cpickle.zlib\n",
      "1 of 9 T+0.08051204681396484\n",
      "2 of 9 T+0.20624923706054688\n",
      "3 of 9 T+0.3248860836029053\n",
      "4 of 9 T+0.3814399242401123\n",
      "5 of 9 T+0.4334580898284912\n",
      "6 of 9 T+0.5027101039886475\n",
      "7 of 9 T+0.5544948577880859\n",
      "8 of 9 T+0.6230530738830566\n",
      "9 of 9 T+0.6884551048278809\n",
      "Sourcefile: data/new_tensors/99_180604_Mix2_MES_nonlin_UN3.mzML.gz.cpickle.zlib, 3 of 3\n",
      "File: data/new_tensors/99_180604_Mix2_MES_nonlin_UN3.mzML.gz.cpickle.zlib\n",
      "1 of 9 T+0.08010601997375488\n",
      "2 of 9 T+0.22836971282958984\n",
      "3 of 9 T+0.32538795471191406\n",
      "4 of 9 T+0.39366698265075684\n",
      "5 of 9 T+0.4497349262237549\n",
      "6 of 9 T+0.517409086227417\n",
      "7 of 9 T+0.5703752040863037\n",
      "8 of 9 T+0.645751953125\n",
      "9 of 9 T+0.7040410041809082\n",
      "Starting 10 seconds, 2 of 21\n",
      "Sourcefile: data/new_tensors/99_180604_Mix2_MES_nonlin_10s.mzML.gz.cpickle.zlib, 1 of 1\n",
      "File: data/new_tensors/99_180604_Mix2_MES_nonlin_10s.mzML.gz.cpickle.zlib\n",
      "1 of 9 T+0.09423375129699707\n",
      "2 of 9 T+0.3149430751800537\n",
      "3 of 9 T+0.40749597549438477\n",
      "4 of 9 T+0.475919246673584\n",
      "5 of 9 T+0.5920507907867432\n",
      "6 of 9 T+0.6607470512390137\n",
      "7 of 9 T+0.7405979633331299\n",
      "8 of 9 T+0.8420140743255615\n",
      "9 of 9 T+0.934067964553833\n",
      "Starting 16 seconds, 3 of 21\n",
      "Sourcefile: data/new_tensors/99_180604_Mix2_MES_nonlin_16s.mzML.gz.cpickle.zlib, 1 of 1\n",
      "File: data/new_tensors/99_180604_Mix2_MES_nonlin_16s.mzML.gz.cpickle.zlib\n",
      "1 of 9 T+0.09475398063659668\n",
      "2 of 9 T+0.32475805282592773\n",
      "3 of 9 T+0.403501033782959\n",
      "4 of 9 T+0.4798121452331543\n",
      "5 of 9 T+0.5657958984375\n",
      "6 of 9 T+0.6750099658966064\n",
      "7 of 9 T+0.7091758251190186\n",
      "8 of 9 T+0.7741639614105225\n",
      "9 of 9 T+1.0495507717132568\n",
      "Starting 26 seconds, 4 of 21\n",
      "Sourcefile: data/new_tensors/99_180604_Mix2_MES_nonlin_26s.mzML.gz.cpickle.zlib, 1 of 1\n",
      "File: data/new_tensors/99_180604_Mix2_MES_nonlin_26s.mzML.gz.cpickle.zlib\n",
      "1 of 9 T+0.09417605400085449\n",
      "2 of 9 T+0.2866349220275879\n",
      "3 of 9 T+0.4059748649597168\n",
      "4 of 9 T+0.48339009284973145\n",
      "5 of 9 T+0.5689511299133301\n",
      "6 of 9 T+0.6451430320739746\n",
      "7 of 9 T+0.6972968578338623\n",
      "8 of 9 T+0.7902970314025879\n",
      "9 of 9 T+0.8789548873901367\n",
      "Starting 40 seconds, 5 of 21\n",
      "Sourcefile: data/new_tensors/99_180604_Mix2_MES_nonlin_40s.mzML.gz.cpickle.zlib, 1 of 1\n",
      "File: data/new_tensors/99_180604_Mix2_MES_nonlin_40s.mzML.gz.cpickle.zlib\n",
      "1 of 9 T+0.08607602119445801\n",
      "2 of 9 T+0.26172304153442383\n",
      "3 of 9 T+0.3222959041595459\n",
      "4 of 9 T+0.41719985008239746\n",
      "5 of 9 T+0.44596409797668457\n",
      "6 of 9 T+0.5343098640441895\n",
      "7 of 9 T+0.5982060432434082\n",
      "8 of 9 T+0.6542952060699463\n",
      "9 of 9 T+0.6898832321166992\n",
      "Starting 65 seconds, 6 of 21\n",
      "Sourcefile: data/new_tensors/99_180604_Mix2_MES_nonlin_65s.mzML.gz.cpickle.zlib, 1 of 1\n",
      "File: data/new_tensors/99_180604_Mix2_MES_nonlin_65s.mzML.gz.cpickle.zlib\n",
      "1 of 9 T+0.07987093925476074\n",
      "2 of 9 T+0.2676420211791992\n",
      "3 of 9 T+0.33083319664001465\n",
      "4 of 9 T+0.39166808128356934\n",
      "5 of 9 T+0.44791412353515625\n",
      "6 of 9 T+0.5279552936553955\n",
      "7 of 9 T+0.5725510120391846\n",
      "8 of 9 T+0.6674478054046631\n",
      "9 of 9 T+0.724092960357666\n",
      "Starting 105 seconds, 7 of 21\n",
      "Sourcefile: data/new_tensors/99_180604_Mix2_MES_nonlin_105s.mzML.gz.cpickle.zlib, 1 of 1\n",
      "File: data/new_tensors/99_180604_Mix2_MES_nonlin_105s.mzML.gz.cpickle.zlib\n"
     ]
    },
    {
     "ename": "KeyboardInterrupt",
     "evalue": "",
     "output_type": "error",
     "traceback": [
      "\u001b[0;31m---------------------------------------------------------------------------\u001b[0m",
      "\u001b[0;31mKeyboardInterrupt\u001b[0m                         Traceback (most recent call last)",
      "\u001b[0;32m<ipython-input-2-8740c2adaf6a>\u001b[0m in \u001b[0;36m<module>\u001b[0;34m\u001b[0m\n\u001b[1;32m      6\u001b[0m \u001b[0;34m\u001b[0m\u001b[0m\n\u001b[1;32m      7\u001b[0m \u001b[0mt\u001b[0m \u001b[0;34m=\u001b[0m \u001b[0mhx\u001b[0m\u001b[0;34m.\u001b[0m\u001b[0mTensorGenerator\u001b[0m\u001b[0;34m(\u001b[0m\u001b[0mname\u001b[0m\u001b[0;34m,\u001b[0m \u001b[0mlibrary_info\u001b[0m\u001b[0;34m,\u001b[0m \u001b[0mtp_inputs\u001b[0m\u001b[0;34m,\u001b[0m \u001b[0mtimepoints\u001b[0m\u001b[0;34m,\u001b[0m \u001b[0mn_factors_high\u001b[0m\u001b[0;34m=\u001b[0m\u001b[0;36m9\u001b[0m\u001b[0;34m)\u001b[0m\u001b[0;34m\u001b[0m\u001b[0;34m\u001b[0m\u001b[0m\n\u001b[0;32m----> 8\u001b[0;31m \u001b[0mt\u001b[0m\u001b[0;34m.\u001b[0m\u001b[0mgenerate_tensors\u001b[0m\u001b[0;34m(\u001b[0m\u001b[0;34m)\u001b[0m\u001b[0;34m\u001b[0m\u001b[0;34m\u001b[0m\u001b[0m\n\u001b[0m\u001b[1;32m      9\u001b[0m \u001b[0mhx\u001b[0m\u001b[0;34m.\u001b[0m\u001b[0mlimit_write\u001b[0m\u001b[0;34m(\u001b[0m\u001b[0mt\u001b[0m\u001b[0;34m.\u001b[0m\u001b[0mall_tp_clusters\u001b[0m\u001b[0;34m,\u001b[0m \u001b[0;34m\"data/new_ic_time_series/\"\u001b[0m\u001b[0;34m+\u001b[0m\u001b[0mt\u001b[0m\u001b[0;34m.\u001b[0m\u001b[0mname\u001b[0m\u001b[0;34m+\u001b[0m\u001b[0;34m\"_all_tp_clusters.cpickle.zlib\"\u001b[0m\u001b[0;34m)\u001b[0m\u001b[0;34m\u001b[0m\u001b[0;34m\u001b[0m\u001b[0m\n",
      "\u001b[0;32m~/Documents/hdx/local_LIMIT/scripts/auxiliary/LC_IM_MS_TensorAnalysis.py\u001b[0m in \u001b[0;36mgenerate_tensors\u001b[0;34m(self)\u001b[0m\n\u001b[1;32m    967\u001b[0m                                         \u001b[0mdts\u001b[0m\u001b[0;34m=\u001b[0m \u001b[0moutput\u001b[0m\u001b[0;34m[\u001b[0m\u001b[0;36m1\u001b[0m\u001b[0;34m]\u001b[0m\u001b[0;34m,\u001b[0m\u001b[0;34m\u001b[0m\u001b[0;34m\u001b[0m\u001b[0m\n\u001b[1;32m    968\u001b[0m                                         \u001b[0mseq_out\u001b[0m \u001b[0;34m=\u001b[0m \u001b[0moutput\u001b[0m\u001b[0;34m[\u001b[0m\u001b[0;36m2\u001b[0m\u001b[0;34m]\u001b[0m\u001b[0;34m,\u001b[0m\u001b[0;34m\u001b[0m\u001b[0;34m\u001b[0m\u001b[0m\n\u001b[0;32m--> 969\u001b[0;31m                                         \u001b[0mint_seq_out\u001b[0m \u001b[0;34m=\u001b[0m \u001b[0;32mNone\u001b[0m\u001b[0;34m\u001b[0m\u001b[0;34m\u001b[0m\u001b[0m\n\u001b[0m\u001b[1;32m    970\u001b[0m                                         )\n\u001b[1;32m    971\u001b[0m \u001b[0;34m\u001b[0m\u001b[0m\n",
      "\u001b[0;32m~/Documents/hdx/local_LIMIT/scripts/auxiliary/LC_IM_MS_TensorAnalysis.py\u001b[0m in \u001b[0;36m__init__\u001b[0;34m(self, source_file, tensor_idx, timepoint_idx, name, total_mass_window, n_concatenated, charge_states, **kwargs)\u001b[0m\n\u001b[1;32m    169\u001b[0m         \u001b[0;32mif\u001b[0m \u001b[0mself\u001b[0m\u001b[0;34m.\u001b[0m\u001b[0mn_concatenated\u001b[0m \u001b[0;34m==\u001b[0m \u001b[0;36m1\u001b[0m\u001b[0;34m:\u001b[0m\u001b[0;34m\u001b[0m\u001b[0;34m\u001b[0m\u001b[0m\n\u001b[1;32m    170\u001b[0m \u001b[0;34m\u001b[0m\u001b[0m\n\u001b[0;32m--> 171\u001b[0;31m             \u001b[0mself\u001b[0m\u001b[0;34m.\u001b[0m\u001b[0mgrid_out\u001b[0m \u001b[0;34m=\u001b[0m \u001b[0mnp\u001b[0m\u001b[0;34m.\u001b[0m\u001b[0mreshape\u001b[0m\u001b[0;34m(\u001b[0m\u001b[0mself\u001b[0m\u001b[0;34m.\u001b[0m\u001b[0mreprofile\u001b[0m\u001b[0;34m(\u001b[0m\u001b[0;34m)\u001b[0m\u001b[0;34m,\u001b[0m \u001b[0;34m(\u001b[0m\u001b[0mlen\u001b[0m\u001b[0;34m(\u001b[0m\u001b[0mself\u001b[0m\u001b[0;34m.\u001b[0m\u001b[0mrts\u001b[0m\u001b[0;34m)\u001b[0m\u001b[0;34m,\u001b[0m \u001b[0mlen\u001b[0m\u001b[0;34m(\u001b[0m\u001b[0mself\u001b[0m\u001b[0;34m.\u001b[0m\u001b[0mdts\u001b[0m\u001b[0;34m)\u001b[0m\u001b[0;34m)\u001b[0m\u001b[0;34m)\u001b[0m\u001b[0;34m\u001b[0m\u001b[0;34m\u001b[0m\u001b[0m\n\u001b[0m\u001b[1;32m    172\u001b[0m \u001b[0;34m\u001b[0m\u001b[0m\n\u001b[1;32m    173\u001b[0m             \u001b[0;31m#For creating full_grid_out, a 3d array with all mz dimensions having the same length\u001b[0m\u001b[0;34m\u001b[0m\u001b[0;34m\u001b[0m\u001b[0;34m\u001b[0m\u001b[0m\n",
      "\u001b[0;32m~/Documents/hdx/local_LIMIT/scripts/auxiliary/LC_IM_MS_TensorAnalysis.py\u001b[0m in \u001b[0;36mreprofile\u001b[0;34m(self)\u001b[0m\n\u001b[1;32m    251\u001b[0m                     \u001b[0;32mif\u001b[0m \u001b[0m_\u001b[0m \u001b[0;34m%\u001b[0m \u001b[0mint\u001b[0m\u001b[0;34m(\u001b[0m\u001b[0;36m5\u001b[0m\u001b[0;34m)\u001b[0m \u001b[0;34m==\u001b[0m \u001b[0;36m0\u001b[0m\u001b[0;34m:\u001b[0m\u001b[0;34m\u001b[0m\u001b[0;34m\u001b[0m\u001b[0m\n\u001b[1;32m    252\u001b[0m                         \u001b[0ma\u001b[0m \u001b[0;34m=\u001b[0m \u001b[0mfloat\u001b[0m\u001b[0;34m(\u001b[0m\u001b[0m_\u001b[0m\u001b[0;34m)\u001b[0m \u001b[0;34m/\u001b[0m \u001b[0mfloat\u001b[0m\u001b[0;34m(\u001b[0m\u001b[0mip\u001b[0m\u001b[0;34m)\u001b[0m\u001b[0;34m\u001b[0m\u001b[0;34m\u001b[0m\u001b[0m\n\u001b[0;32m--> 253\u001b[0;31m                         \u001b[0my\u001b[0m \u001b[0;34m=\u001b[0m \u001b[0mi\u001b[0m \u001b[0;34m*\u001b[0m \u001b[0mmath\u001b[0m\u001b[0;34m.\u001b[0m\u001b[0mexp\u001b[0m\u001b[0;34m(\u001b[0m\u001b[0;34m-\u001b[0m\u001b[0;36m1\u001b[0m \u001b[0;34m*\u001b[0m \u001b[0;34m(\u001b[0m\u001b[0;34m(\u001b[0m\u001b[0mmz\u001b[0m \u001b[0;34m-\u001b[0m \u001b[0ma\u001b[0m\u001b[0;34m)\u001b[0m \u001b[0;34m*\u001b[0m \u001b[0;34m(\u001b[0m\u001b[0mmz\u001b[0m \u001b[0;34m-\u001b[0m \u001b[0ma\u001b[0m\u001b[0;34m)\u001b[0m\u001b[0;34m)\u001b[0m \u001b[0;34m/\u001b[0m \u001b[0;34m(\u001b[0m\u001b[0;36m2\u001b[0m \u001b[0;34m*\u001b[0m \u001b[0ms2\u001b[0m\u001b[0;34m)\u001b[0m\u001b[0;34m)\u001b[0m\u001b[0;34m\u001b[0m\u001b[0;34m\u001b[0m\u001b[0m\n\u001b[0m\u001b[1;32m    254\u001b[0m                         \u001b[0mtmp\u001b[0m\u001b[0;34m[\u001b[0m\u001b[0ma\u001b[0m\u001b[0;34m]\u001b[0m \u001b[0;34m+=\u001b[0m \u001b[0my\u001b[0m\u001b[0;34m\u001b[0m\u001b[0;34m\u001b[0m\u001b[0m\n\u001b[1;32m    255\u001b[0m             \u001b[0mout\u001b[0m\u001b[0;34m.\u001b[0m\u001b[0mappend\u001b[0m\u001b[0;34m(\u001b[0m\u001b[0mnp\u001b[0m\u001b[0;34m.\u001b[0m\u001b[0masarray\u001b[0m\u001b[0;34m(\u001b[0m\u001b[0;34m[\u001b[0m\u001b[0;34m[\u001b[0m\u001b[0mkey\u001b[0m\u001b[0;34m,\u001b[0m \u001b[0mtmp\u001b[0m\u001b[0;34m[\u001b[0m\u001b[0mkey\u001b[0m\u001b[0;34m]\u001b[0m\u001b[0;34m]\u001b[0m \u001b[0;32mfor\u001b[0m \u001b[0mkey\u001b[0m \u001b[0;32min\u001b[0m \u001b[0mlist\u001b[0m\u001b[0;34m(\u001b[0m\u001b[0mtmp\u001b[0m\u001b[0;34m.\u001b[0m\u001b[0mkeys\u001b[0m\u001b[0;34m(\u001b[0m\u001b[0;34m)\u001b[0m\u001b[0;34m)\u001b[0m\u001b[0;34m]\u001b[0m\u001b[0;34m)\u001b[0m\u001b[0;34m)\u001b[0m\u001b[0;34m\u001b[0m\u001b[0;34m\u001b[0m\u001b[0m\n",
      "\u001b[0;31mKeyboardInterrupt\u001b[0m: "
     ]
    }
   ],
   "source": [
    "#Generate rt-group ics\n",
    "\n",
    "paths = glob.glob(\"data/new_tensors/\"+str(line)+\"_*\")    \n",
    "tp_inputs = [sorted([fn for fn in paths if tp_name in fn]) for tp_name in tp_names]\n",
    "name = library_info.iloc[line]['name']\n",
    "\n",
    "t = hx.TensorGenerator(name, library_info, tp_inputs, timepoints, n_factors_high=9)\n",
    "t.generate_tensors()\n",
    "hx.limit_write(t.all_tp_clusters, \"data/new_ic_time_series/\"+t.name+\"_all_tp_clusters.cpickle.zlib\")"
   ]
  },
  {
   "cell_type": "code",
   "execution_count": null,
   "metadata": {},
   "outputs": [],
   "source": [
    "#PO and bokeh plot\n",
    "    \n",
    "name = library_info.iloc[line]['name']\n",
    "\n",
    "all_tp_clusters = hx.limit_read(\"data/new_ic_time_series/\"+name+\"_all_tp_clusters.cpickle.zlib\")\n",
    "\n",
    "po = hx.PathOptimizer(name, all_tp_clusters, library_info, timepoints, n_undeut_runs = 3, old_data_dir = \"/Users/rwl0960/Documents/hdx/local_LIMIT/data/old_data/\")\n",
    "\n",
    "po.optimize_paths()\n",
    "\n",
    "source_frame, old_df = po.bokeh_plot(\"plots/\"+name+\"_new_time_series.html\")"
   ]
  },
  {
   "cell_type": "code",
   "execution_count": null,
   "metadata": {},
   "outputs": [],
   "source": []
  }
 ],
 "metadata": {
  "kernelspec": {
   "display_name": "Python 3",
   "language": "python",
   "name": "python3"
  },
  "language_info": {
   "codemirror_mode": {
    "name": "ipython",
    "version": 3
   },
   "file_extension": ".py",
   "mimetype": "text/x-python",
   "name": "python",
   "nbconvert_exporter": "python",
   "pygments_lexer": "ipython3",
   "version": "3.7.4"
  }
 },
 "nbformat": 4,
 "nbformat_minor": 4
}
