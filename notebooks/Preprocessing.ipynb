{
 "cells": [
  {
   "cell_type": "code",
   "execution_count": null,
   "id": "asian-surname",
   "metadata": {},
   "outputs": [],
   "source": [
    "import os\n",
    "import sys\n",
    "import yaml\n",
    "import glob\n",
    "import pandas as pd\n",
    "sys.path.append('/'.join(os.getcwd().split('/')[:-1])+'/workflow/scripts')\n",
    "config = yaml.load(open('sample_data/config.yaml', 'rb').read(), Loader=yaml.FullLoader)\n",
    "library_info = pd.read_csv('sample_data/library_info.csv')"
   ]
  }
 ],
 "metadata": {
  "kernelspec": {
   "display_name": "Python 3",
   "language": "python",
   "name": "python3"
  },
  "language_info": {
   "codemirror_mode": {
    "name": "ipython",
    "version": 3
   },
   "file_extension": ".py",
   "mimetype": "text/x-python",
   "name": "python",
   "nbconvert_exporter": "python",
   "pygments_lexer": "ipython3",
   "version": "3.7.9"
  }
 },
 "nbformat": 4,
 "nbformat_minor": 5
}
