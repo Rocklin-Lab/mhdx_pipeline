{
 "cells": [
  {
   "cell_type": "markdown",
   "id": "dynamic-canal",
   "metadata": {},
   "source": [
    "# Four\n",
    "## Title\n",
    "### Font\n",
    "#### Sizes\n",
    "\n",
    "#### MathJax:\n",
    "\n",
    "$$\\iiint 1 \\,dx \\,dy \\,dz$$\n",
    "\n",
    "$$\\int_0^1 \\int_0^{2\\pi} r \\,d\\varphi\\,dr$$\n",
    "\n",
    "$$\\iint_{x^2+y^2\\le 1} x+y \\,dx\\,dy$$\n",
    "\n",
    "$$\\int x\\cos x\\, dx = \\left| \\begin{array}{cc} u=x & v'=\\cos x \\\\ u'=1 & v=\\sin x \\end{array} \\right|_0^{2\\pi}  = x\\sin x - \\int \\sin x \\,dx$$\n",
    "\n",
    ">> \\> to indent, \\\\$ for inline, \\\\$\\\\$ for centered : $\\int_a^b f(x) \\,dx,$ $\\int_a^b f(x) \\,dx$, and $\\int\\limits_a^b f(x)\\,dx$.\n",
    "\n",
    "\n",
    "#### Horizontal Line:\n",
    "***\n",
    "\n",
    "\n",
    "#### <font color=red>Write with color</font>\n",
    "\n",
    "two sizes of <br> line\n",
    "\n",
    "breaks\n",
    "\n",
    "\n",
    "\n"
   ]
  }
 ],
 "metadata": {
  "kernelspec": {
   "display_name": "Python 3",
   "language": "python",
   "name": "python3"
  },
  "language_info": {
   "codemirror_mode": {
    "name": "ipython",
    "version": 3
   },
   "file_extension": ".py",
   "mimetype": "text/x-python",
   "name": "python",
   "nbconvert_exporter": "python",
   "pygments_lexer": "ipython3",
   "version": "3.7.9"
  }
 },
 "nbformat": 4,
 "nbformat_minor": 5
}
